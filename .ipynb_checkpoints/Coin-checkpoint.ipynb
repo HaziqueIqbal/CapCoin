{
 "cells": [
  {
   "cell_type": "code",
   "execution_count": 1,
   "id": "26c5dbb4",
   "metadata": {},
   "outputs": [
    {
     "name": "stdout",
     "output_type": "stream",
     "text": [
      "hazique\n"
     ]
    }
   ],
   "source": [
    "print(\"hazique\");"
   ]
  },
  {
   "cell_type": "code",
   "execution_count": 2,
   "id": "9da57a8f",
   "metadata": {},
   "outputs": [],
   "source": [
    "import hashlib\n",
    "import random\n",
    "import string \n",
    "import json\n",
    "import binascii\n",
    "import numpy as np\n",
    "import pandas as pd\n",
    "import pylab as pl\n",
    "import logging\n",
    "%matplotlib inline"
   ]
  },
  {
   "cell_type": "code",
   "execution_count": 3,
   "id": "e8d7a337",
   "metadata": {},
   "outputs": [],
   "source": [
    "def sha256(message):\n",
    "    return hashlib.sha256(message.encode(\"ascii\")).hexdigest();"
   ]
  },
  {
   "cell_type": "code",
   "execution_count": 4,
   "id": "2dfdff95",
   "metadata": {},
   "outputs": [
    {
     "name": "stdout",
     "output_type": "stream",
     "text": [
      "27b61d9371b5425dd06fd4854a20e0f245eb12384ef65b9e19a61e7819083017\n",
      "a1921f55bd817bd09e346f2c0ab5e90fbaafd869d8f1a77299d356bff60b052d\n"
     ]
    }
   ],
   "source": [
    "##testing sha256 function\n",
    "print(sha256(\"my name is hazique\"));\n",
    "print(sha256(\"ubitian\"));"
   ]
  },
  {
   "cell_type": "code",
   "execution_count": 5,
   "id": "941b411a",
   "metadata": {},
   "outputs": [
    {
     "name": "stdout",
     "output_type": "stream",
     "text": [
      "Found nonce = 507\n",
      "11d796d837a050c32202be4eb20a724db20bd9419ae25b061099c9a79beb04a3\n"
     ]
    }
   ],
   "source": [
    "message = \"Hello! my name is Muhammad Hazique Khatri\"\n",
    "for nonce in range(10000):\n",
    "    digest = sha256(message + str(nonce))\n",
    "    if digest.startswith(\"11\"):\n",
    "        print(\"Found nonce = %d\" %nonce)\n",
    "        break\n",
    "print(sha256(message+str(nonce)))"
   ]
  },
  {
   "cell_type": "code",
   "execution_count": 6,
   "id": "47c6cd15",
   "metadata": {},
   "outputs": [],
   "source": [
    "def dumb_hash(message):\n",
    "    return sha256(message)\n",
    "def mine(message, difficulty = 1):\n",
    "    assert difficulty >= 1, \"Difficulty of 0 is not possible\"\n",
    "    i = 0\n",
    "    prefix = \"1\"*difficulty\n",
    "    ##print(prefix)\n",
    "    while True:\n",
    "        nonce = str(i)\n",
    "        digest = dumb_hash(message+nonce)\n",
    "        if(digest.startswith(prefix)):\n",
    "            return nonce, i\n",
    "        i+=1\n",
    "    "
   ]
  },
  {
   "cell_type": "code",
   "execution_count": 7,
   "id": "73e45f6b",
   "metadata": {},
   "outputs": [
    {
     "name": "stdout",
     "output_type": "stream",
     "text": [
      "Took 23 iterations \n",
      "Took 47237 iterations \n"
     ]
    }
   ],
   "source": [
    "nonce, niters = mine(\"42\", difficulty=1)\n",
    "print(\"Took %d iterations \" %niters)\n",
    "\n",
    "nonce, niters = mine(\"42\", difficulty=4)\n",
    "print(\"Took %d iterations \" %niters)"
   ]
  },
  {
   "cell_type": "code",
   "execution_count": 8,
   "id": "2e7ea419",
   "metadata": {},
   "outputs": [],
   "source": [
    "def random_String(length = 10):\n",
    "    return \"\".join(random.choice(string.ascii_uppercase+string.digits) for _ in range(length))\n",
    "strings = [random_String(15) for i in range(50)]"
   ]
  },
  {
   "cell_type": "code",
   "execution_count": 11,
   "id": "e593e942",
   "metadata": {},
   "outputs": [],
   "source": [
    "levels = range(1,5)\n",
    "results = pd.DataFrame(index = strings, columns = levels, dtype = int)\n",
    "results.fillna(value=0)\n",
    "\n",
    "for level in levels:\n",
    "    for string in strings:\n",
    "        _, niters = mine(string, difficulty = level)\n",
    "        results[level][string] = niters"
   ]
  },
  {
   "cell_type": "code",
   "execution_count": 12,
   "id": "6d4f697a",
   "metadata": {},
   "outputs": [
    {
     "data": {
      "text/html": [
       "<div>\n",
       "<style scoped>\n",
       "    .dataframe tbody tr th:only-of-type {\n",
       "        vertical-align: middle;\n",
       "    }\n",
       "\n",
       "    .dataframe tbody tr th {\n",
       "        vertical-align: top;\n",
       "    }\n",
       "\n",
       "    .dataframe thead th {\n",
       "        text-align: right;\n",
       "    }\n",
       "</style>\n",
       "<table border=\"1\" class=\"dataframe\">\n",
       "  <thead>\n",
       "    <tr style=\"text-align: right;\">\n",
       "      <th></th>\n",
       "      <th>1</th>\n",
       "      <th>2</th>\n",
       "      <th>3</th>\n",
       "      <th>4</th>\n",
       "    </tr>\n",
       "  </thead>\n",
       "  <tbody>\n",
       "    <tr>\n",
       "      <th>ALLGCTDJCQIJOG6</th>\n",
       "      <td>5.0</td>\n",
       "      <td>681.0</td>\n",
       "      <td>5702.0</td>\n",
       "      <td>17477.0</td>\n",
       "    </tr>\n",
       "    <tr>\n",
       "      <th>G47QSNJGCF3R3JP</th>\n",
       "      <td>0.0</td>\n",
       "      <td>538.0</td>\n",
       "      <td>2279.0</td>\n",
       "      <td>216579.0</td>\n",
       "    </tr>\n",
       "    <tr>\n",
       "      <th>FRZ9M7U6KVKU64Q</th>\n",
       "      <td>7.0</td>\n",
       "      <td>72.0</td>\n",
       "      <td>5039.0</td>\n",
       "      <td>104646.0</td>\n",
       "    </tr>\n",
       "    <tr>\n",
       "      <th>NHHZXZD7YR3RCM2</th>\n",
       "      <td>12.0</td>\n",
       "      <td>490.0</td>\n",
       "      <td>1077.0</td>\n",
       "      <td>91008.0</td>\n",
       "    </tr>\n",
       "    <tr>\n",
       "      <th>KV30GRGUGYUSPI4</th>\n",
       "      <td>24.0</td>\n",
       "      <td>73.0</td>\n",
       "      <td>1879.0</td>\n",
       "      <td>200444.0</td>\n",
       "    </tr>\n",
       "    <tr>\n",
       "      <th>NX6RHNPC4NFDMDB</th>\n",
       "      <td>19.0</td>\n",
       "      <td>378.0</td>\n",
       "      <td>3563.0</td>\n",
       "      <td>123681.0</td>\n",
       "    </tr>\n",
       "    <tr>\n",
       "      <th>75YAEUPNNWY7B7R</th>\n",
       "      <td>11.0</td>\n",
       "      <td>135.0</td>\n",
       "      <td>135.0</td>\n",
       "      <td>2024.0</td>\n",
       "    </tr>\n",
       "    <tr>\n",
       "      <th>359R8ADGUS7KM23</th>\n",
       "      <td>7.0</td>\n",
       "      <td>99.0</td>\n",
       "      <td>3608.0</td>\n",
       "      <td>36537.0</td>\n",
       "    </tr>\n",
       "    <tr>\n",
       "      <th>KTL4XSB35J8I6MK</th>\n",
       "      <td>20.0</td>\n",
       "      <td>370.0</td>\n",
       "      <td>8331.0</td>\n",
       "      <td>83992.0</td>\n",
       "    </tr>\n",
       "    <tr>\n",
       "      <th>TJJ4HKW34GP5Z5O</th>\n",
       "      <td>25.0</td>\n",
       "      <td>559.0</td>\n",
       "      <td>559.0</td>\n",
       "      <td>22238.0</td>\n",
       "    </tr>\n",
       "    <tr>\n",
       "      <th>0VHYICPF3MP8UOW</th>\n",
       "      <td>4.0</td>\n",
       "      <td>37.0</td>\n",
       "      <td>1117.0</td>\n",
       "      <td>2658.0</td>\n",
       "    </tr>\n",
       "    <tr>\n",
       "      <th>7P7GXP0W5GYFMYX</th>\n",
       "      <td>19.0</td>\n",
       "      <td>184.0</td>\n",
       "      <td>10709.0</td>\n",
       "      <td>50959.0</td>\n",
       "    </tr>\n",
       "    <tr>\n",
       "      <th>ABYYA76U01TCZYC</th>\n",
       "      <td>48.0</td>\n",
       "      <td>58.0</td>\n",
       "      <td>2469.0</td>\n",
       "      <td>15941.0</td>\n",
       "    </tr>\n",
       "    <tr>\n",
       "      <th>KY63008TW73P60Y</th>\n",
       "      <td>7.0</td>\n",
       "      <td>51.0</td>\n",
       "      <td>3253.0</td>\n",
       "      <td>73479.0</td>\n",
       "    </tr>\n",
       "    <tr>\n",
       "      <th>LK8N7HCARLEER3A</th>\n",
       "      <td>8.0</td>\n",
       "      <td>494.0</td>\n",
       "      <td>5477.0</td>\n",
       "      <td>13196.0</td>\n",
       "    </tr>\n",
       "  </tbody>\n",
       "</table>\n",
       "</div>"
      ],
      "text/plain": [
       "                    1      2        3         4\n",
       "ALLGCTDJCQIJOG6   5.0  681.0   5702.0   17477.0\n",
       "G47QSNJGCF3R3JP   0.0  538.0   2279.0  216579.0\n",
       "FRZ9M7U6KVKU64Q   7.0   72.0   5039.0  104646.0\n",
       "NHHZXZD7YR3RCM2  12.0  490.0   1077.0   91008.0\n",
       "KV30GRGUGYUSPI4  24.0   73.0   1879.0  200444.0\n",
       "NX6RHNPC4NFDMDB  19.0  378.0   3563.0  123681.0\n",
       "75YAEUPNNWY7B7R  11.0  135.0    135.0    2024.0\n",
       "359R8ADGUS7KM23   7.0   99.0   3608.0   36537.0\n",
       "KTL4XSB35J8I6MK  20.0  370.0   8331.0   83992.0\n",
       "TJJ4HKW34GP5Z5O  25.0  559.0    559.0   22238.0\n",
       "0VHYICPF3MP8UOW   4.0   37.0   1117.0    2658.0\n",
       "7P7GXP0W5GYFMYX  19.0  184.0  10709.0   50959.0\n",
       "ABYYA76U01TCZYC  48.0   58.0   2469.0   15941.0\n",
       "KY63008TW73P60Y   7.0   51.0   3253.0   73479.0\n",
       "LK8N7HCARLEER3A   8.0  494.0   5477.0   13196.0"
      ]
     },
     "execution_count": 12,
     "metadata": {},
     "output_type": "execute_result"
    }
   ],
   "source": [
    "results.iloc[:15]"
   ]
  },
  {
   "cell_type": "code",
   "execution_count": 13,
   "id": "5fbcd552",
   "metadata": {},
   "outputs": [
    {
     "data": {
      "text/plain": [
       "Text(0, 0.5, 'Iterations')"
      ]
     },
     "execution_count": 13,
     "metadata": {},
     "output_type": "execute_result"
    },
    {
     "data": {
      "image/png": "[encoded data removed]",
      "text/plain": [
       "<Figure size 720x360 with 1 Axes>"
      ]
     },
     "metadata": {
      "needs_background": "light"
     },
     "output_type": "display_data"
    }
   ],
   "source": [
    "pl.figure(figsize =(10,5))\n",
    "ax = pl.subplot(111)\n",
    "ax.set_title(\"Number of iterations to mine a nonce for various difficulty\")\n",
    "results.plot.box(showfliers=False, ax=ax)\n",
    "ax.set_xlabel(\"Difficulty\")\n",
    "ax.set_ylabel(\"Iterations\")"
   ]
  },
  {
   "cell_type": "code",
   "execution_count": null,
   "id": "8a71ea82",
   "metadata": {},
   "outputs": [],
   "source": []
  }
 ],
 "metadata": {
  "kernelspec": {
   "display_name": "Python 3 (ipykernel)",
   "language": "python",
   "name": "python3"
  },
  "language_info": {
   "codemirror_mode": {
    "name": "ipython",
    "version": 3
   },
   "file_extension": ".py",
   "mimetype": "text/x-python",
   "name": "python",
   "nbconvert_exporter": "python",
   "pygments_lexer": "ipython3",
   "version": "3.9.2"
  }
 },
 "nbformat": 4,
 "nbformat_minor": 5
}
