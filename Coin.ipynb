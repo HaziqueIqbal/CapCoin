{
 "cells": [
  {
   "cell_type": "code",
   "execution_count": 1,
   "id": "26c5dbb4",
   "metadata": {},
   "outputs": [
    {
     "name": "stdout",
     "output_type": "stream",
     "text": [
      "hazique\n"
     ]
    }
   ],
   "source": [
    "print(\"hazique\");"
   ]
  },
  {
   "cell_type": "code",
   "execution_count": 16,
   "id": "9da57a8f",
   "metadata": {},
   "outputs": [],
   "source": [
    "import hashlib\n",
    "import random\n",
    "import string \n",
    "import json\n",
    "import binascii\n",
    "import numpy as np\n",
    "import pandas as pd\n",
    "import pylab as pl\n",
    "import logging\n",
    "%matplotlib inline"
   ]
  },
  {
   "cell_type": "code",
   "execution_count": 17,
   "id": "e8d7a337",
   "metadata": {},
   "outputs": [],
   "source": [
    "def sha256(message):\n",
    "    return hashlib.sha256(message.encode(\"ascii\")).hexdigest();"
   ]
  },
  {
   "cell_type": "code",
   "execution_count": 22,
   "id": "2dfdff95",
   "metadata": {},
   "outputs": [
    {
     "name": "stdout",
     "output_type": "stream",
     "text": [
      "27b61d9371b5425dd06fd4854a20e0f245eb12384ef65b9e19a61e7819083017\n",
      "a1921f55bd817bd09e346f2c0ab5e90fbaafd869d8f1a77299d356bff60b052d\n"
     ]
    }
   ],
   "source": [
    "##testing sha256 function\n",
    "print(sha256(\"my name is hazique\"));\n",
    "print(sha256(\"ubitian\"));"
   ]
  },
  {
   "cell_type": "code",
   "execution_count": null,
   "id": "941b411a",
   "metadata": {},
   "outputs": [],
   "source": []
  }
 ],
 "metadata": {
  "kernelspec": {
   "display_name": "Python 3 (ipykernel)",
   "language": "python",
   "name": "python3"
  },
  "language_info": {
   "codemirror_mode": {
    "name": "ipython",
    "version": 3
   },
   "file_extension": ".py",
   "mimetype": "text/x-python",
   "name": "python",
   "nbconvert_exporter": "python",
   "pygments_lexer": "ipython3",
   "version": "3.9.2"
  }
 },
 "nbformat": 4,
 "nbformat_minor": 5
}
